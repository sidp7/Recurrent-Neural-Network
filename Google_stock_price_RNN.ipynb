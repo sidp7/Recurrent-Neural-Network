{
  "nbformat": 4,
  "nbformat_minor": 0,
  "metadata": {
    "colab": {
      "name": "Google stock price RNN.ipynb",
      "provenance": [],
      "collapsed_sections": []
    },
    "kernelspec": {
      "name": "python3",
      "display_name": "Python 3"
    },
    "accelerator": "GPU"
  },
  "cells": [
    {
      "cell_type": "markdown",
      "metadata": {
        "id": "kO25yxnIn5hc",
        "colab_type": "text"
      },
      "source": [
        "**1.] Data Preprocessing**"
      ]
    },
    {
      "cell_type": "markdown",
      "metadata": {
        "id": "-lBl9ez54zXQ",
        "colab_type": "text"
      },
      "source": [
        "Importing Libraries"
      ]
    },
    {
      "cell_type": "code",
      "metadata": {
        "id": "mL4cEL9Rn6pH",
        "colab_type": "code",
        "colab": {}
      },
      "source": [
        "import numpy as np\n",
        "import matplotlib.pyplot as plt\n",
        "import pandas as pd\n"
      ],
      "execution_count": 1,
      "outputs": []
    },
    {
      "cell_type": "markdown",
      "metadata": {
        "id": "2Oa0fUUJpWNI",
        "colab_type": "text"
      },
      "source": [
        "Importing the training Dataset"
      ]
    },
    {
      "cell_type": "code",
      "metadata": {
        "id": "SiQ9dtchmHju",
        "colab_type": "code",
        "colab": {}
      },
      "source": [
        "dataset_train = pd.read_csv('Google_Stock_Price_Train.csv')"
      ],
      "execution_count": 2,
      "outputs": []
    },
    {
      "cell_type": "code",
      "metadata": {
        "id": "p1UQthh9mIU-",
        "colab_type": "code",
        "colab": {}
      },
      "source": [
        "training_set = dataset_train.iloc[:, 1:2].values"
      ],
      "execution_count": 3,
      "outputs": []
    },
    {
      "cell_type": "markdown",
      "metadata": {
        "id": "a9Ll4rbNpTrq",
        "colab_type": "text"
      },
      "source": [
        "Feature Scaling"
      ]
    },
    {
      "cell_type": "code",
      "metadata": {
        "id": "Bfdr50YgmIbJ",
        "colab_type": "code",
        "colab": {}
      },
      "source": [
        "from sklearn.preprocessing import MinMaxScaler\n",
        "sc = MinMaxScaler(feature_range = (0,1))"
      ],
      "execution_count": 4,
      "outputs": []
    },
    {
      "cell_type": "code",
      "metadata": {
        "id": "uHJKrREzmIeO",
        "colab_type": "code",
        "colab": {}
      },
      "source": [
        "training_set_scaled = sc.fit_transform(training_set)"
      ],
      "execution_count": 5,
      "outputs": []
    },
    {
      "cell_type": "markdown",
      "metadata": {
        "id": "0gSF_gCApzZI",
        "colab_type": "text"
      },
      "source": [
        "Creating a data structure with 60 timesteps and single output"
      ]
    },
    {
      "cell_type": "code",
      "metadata": {
        "id": "MtXXrZ7bmIj0",
        "colab_type": "code",
        "colab": {}
      },
      "source": [
        "X_train = []\n",
        "y_train = []\n",
        "\n",
        "for i in range(60,1258):\n",
        "  X_train.append(training_set_scaled[i-60:i,0])\n",
        "  y_train.append(training_set_scaled[i,0])\n",
        "X_train , y_train = np.array(X_train) , np.array(y_train)"
      ],
      "execution_count": 6,
      "outputs": []
    },
    {
      "cell_type": "markdown",
      "metadata": {
        "id": "LLJqfryDvzp_",
        "colab_type": "text"
      },
      "source": [
        "Reshaping "
      ]
    },
    {
      "cell_type": "code",
      "metadata": {
        "id": "0pN6jaWamImy",
        "colab_type": "code",
        "colab": {}
      },
      "source": [
        "X_train = np.reshape(X_train,(X_train.shape[0],X_train.shape[1],1))"
      ],
      "execution_count": 7,
      "outputs": []
    },
    {
      "cell_type": "markdown",
      "metadata": {
        "id": "uzVUbmYRy28S",
        "colab_type": "text"
      },
      "source": [
        "**2.]Building the RNN**"
      ]
    },
    {
      "cell_type": "markdown",
      "metadata": {
        "id": "CPP4h4rN4_-E",
        "colab_type": "text"
      },
      "source": [
        "Importing the keras libraries and packages"
      ]
    },
    {
      "cell_type": "code",
      "metadata": {
        "id": "Q8ZpOlZ8y2H1",
        "colab_type": "code",
        "colab": {}
      },
      "source": [
        "from keras.models import Sequential\n",
        "from keras.layers import Dense\n",
        "from keras.layers import LSTM\n",
        "from keras.layers import Dropout"
      ],
      "execution_count": 8,
      "outputs": []
    },
    {
      "cell_type": "markdown",
      "metadata": {
        "id": "hmYC5WBm5Etj",
        "colab_type": "text"
      },
      "source": [
        "Initializing the RNN"
      ]
    },
    {
      "cell_type": "code",
      "metadata": {
        "id": "IOVD4ENdmIp0",
        "colab_type": "code",
        "colab": {}
      },
      "source": [
        "regressor = Sequential()"
      ],
      "execution_count": 9,
      "outputs": []
    },
    {
      "cell_type": "markdown",
      "metadata": {
        "id": "0gHfbSQx5Ixy",
        "colab_type": "text"
      },
      "source": [
        "Adding the first LSTM layer and some Dropout regularisation\n"
      ]
    },
    {
      "cell_type": "code",
      "metadata": {
        "id": "7yumuigemIs9",
        "colab_type": "code",
        "colab": {}
      },
      "source": [
        "regressor.add(LSTM(units=55,return_sequences=True, input_shape = (X_train.shape[1],1)))\n",
        "regressor.add(Dropout(0.25))"
      ],
      "execution_count": 10,
      "outputs": []
    },
    {
      "cell_type": "markdown",
      "metadata": {
        "id": "Rwf1MuV85wl4",
        "colab_type": "text"
      },
      "source": [
        "Adding the second LSTM layer and some Dropout regularisation\n"
      ]
    },
    {
      "cell_type": "code",
      "metadata": {
        "id": "oaUuHpVomI8W",
        "colab_type": "code",
        "colab": {}
      },
      "source": [
        "regressor.add(LSTM(units=55,return_sequences=True))\n",
        "regressor.add(Dropout(0.25))"
      ],
      "execution_count": 11,
      "outputs": []
    },
    {
      "cell_type": "markdown",
      "metadata": {
        "id": "GZqHtf5a57Zh",
        "colab_type": "text"
      },
      "source": [
        "Adding the third LSTM layer and some Dropout regularisation\n"
      ]
    },
    {
      "cell_type": "code",
      "metadata": {
        "id": "wmGh2M7MmJAB",
        "colab_type": "code",
        "colab": {}
      },
      "source": [
        "regressor.add(LSTM(units=55,return_sequences=True))\n",
        "regressor.add(Dropout(0.25))"
      ],
      "execution_count": 12,
      "outputs": []
    },
    {
      "cell_type": "markdown",
      "metadata": {
        "id": "R_v3BY0s6EDY",
        "colab_type": "text"
      },
      "source": [
        "Adding the fourth LSTM layer and some Dropout regularisation\n"
      ]
    },
    {
      "cell_type": "code",
      "metadata": {
        "id": "pPx1nBb3mI6d",
        "colab_type": "code",
        "colab": {}
      },
      "source": [
        "regressor.add(LSTM(units=55))\n",
        "regressor.add(Dropout(0.25))"
      ],
      "execution_count": 13,
      "outputs": []
    },
    {
      "cell_type": "markdown",
      "metadata": {
        "id": "DZ4akjpb6SUS",
        "colab_type": "text"
      },
      "source": [
        "Adding the Output Layer"
      ]
    },
    {
      "cell_type": "code",
      "metadata": {
        "id": "5B8c_N1umIzB",
        "colab_type": "code",
        "colab": {}
      },
      "source": [
        "regressor.add(Dense(units=1))"
      ],
      "execution_count": 14,
      "outputs": []
    },
    {
      "cell_type": "markdown",
      "metadata": {
        "id": "HOsR_h366aW5",
        "colab_type": "text"
      },
      "source": [
        "Compiling the RNN"
      ]
    },
    {
      "cell_type": "code",
      "metadata": {
        "id": "Cf_zgNN7mIxG",
        "colab_type": "code",
        "colab": {}
      },
      "source": [
        "regressor.compile(optimizer='adam',loss='mean_squared_error')"
      ],
      "execution_count": 15,
      "outputs": []
    },
    {
      "cell_type": "markdown",
      "metadata": {
        "id": "ReeVy61HgOTg",
        "colab_type": "text"
      },
      "source": [
        "Fitting the RNN to the Training set"
      ]
    },
    {
      "cell_type": "code",
      "metadata": {
        "id": "xzczZ-GLmIhq",
        "colab_type": "code",
        "colab": {
          "base_uri": "https://localhost:8080/",
          "height": 1000
        },
        "outputId": "a2bc4ec7-7e12-41ba-822c-b67b954e264c"
      },
      "source": [
        "regressor.fit(X_train,y_train,epochs = 100, batch_size = 36)"
      ],
      "execution_count": 16,
      "outputs": [
        {
          "output_type": "stream",
          "text": [
            "Epoch 1/100\n",
            "34/34 [==============================] - 2s 54ms/step - loss: 0.0494\n",
            "Epoch 2/100\n",
            "34/34 [==============================] - 2s 57ms/step - loss: 0.0081\n",
            "Epoch 3/100\n",
            "34/34 [==============================] - 2s 56ms/step - loss: 0.0071\n",
            "Epoch 4/100\n",
            "34/34 [==============================] - 2s 57ms/step - loss: 0.0062\n",
            "Epoch 5/100\n",
            "34/34 [==============================] - 2s 56ms/step - loss: 0.0061\n",
            "Epoch 6/100\n",
            "34/34 [==============================] - 2s 57ms/step - loss: 0.0055\n",
            "Epoch 7/100\n",
            "34/34 [==============================] - 2s 56ms/step - loss: 0.0055\n",
            "Epoch 8/100\n",
            "34/34 [==============================] - 2s 56ms/step - loss: 0.0062\n",
            "Epoch 9/100\n",
            "34/34 [==============================] - 2s 56ms/step - loss: 0.0051\n",
            "Epoch 10/100\n",
            "34/34 [==============================] - 2s 55ms/step - loss: 0.0047\n",
            "Epoch 11/100\n",
            "34/34 [==============================] - 2s 55ms/step - loss: 0.0049\n",
            "Epoch 12/100\n",
            "34/34 [==============================] - 2s 56ms/step - loss: 0.0049\n",
            "Epoch 13/100\n",
            "34/34 [==============================] - 2s 56ms/step - loss: 0.0040\n",
            "Epoch 14/100\n",
            "34/34 [==============================] - 2s 56ms/step - loss: 0.0046\n",
            "Epoch 15/100\n",
            "34/34 [==============================] - 2s 56ms/step - loss: 0.0039\n",
            "Epoch 16/100\n",
            "34/34 [==============================] - 2s 56ms/step - loss: 0.0042\n",
            "Epoch 17/100\n",
            "34/34 [==============================] - 2s 56ms/step - loss: 0.0039\n",
            "Epoch 18/100\n",
            "34/34 [==============================] - 2s 57ms/step - loss: 0.0042\n",
            "Epoch 19/100\n",
            "34/34 [==============================] - 2s 56ms/step - loss: 0.0041\n",
            "Epoch 20/100\n",
            "34/34 [==============================] - 2s 55ms/step - loss: 0.0037\n",
            "Epoch 21/100\n",
            "34/34 [==============================] - 2s 56ms/step - loss: 0.0039\n",
            "Epoch 22/100\n",
            "34/34 [==============================] - 2s 56ms/step - loss: 0.0038\n",
            "Epoch 23/100\n",
            "34/34 [==============================] - 2s 55ms/step - loss: 0.0036\n",
            "Epoch 24/100\n",
            "34/34 [==============================] - 2s 57ms/step - loss: 0.0039\n",
            "Epoch 25/100\n",
            "34/34 [==============================] - 2s 57ms/step - loss: 0.0037\n",
            "Epoch 26/100\n",
            "34/34 [==============================] - 2s 57ms/step - loss: 0.0035\n",
            "Epoch 27/100\n",
            "34/34 [==============================] - 2s 56ms/step - loss: 0.0038\n",
            "Epoch 28/100\n",
            "34/34 [==============================] - 2s 56ms/step - loss: 0.0037\n",
            "Epoch 29/100\n",
            "34/34 [==============================] - 2s 57ms/step - loss: 0.0035\n",
            "Epoch 30/100\n",
            "34/34 [==============================] - 2s 57ms/step - loss: 0.0035\n",
            "Epoch 31/100\n",
            "34/34 [==============================] - 2s 56ms/step - loss: 0.0034\n",
            "Epoch 32/100\n",
            "34/34 [==============================] - 2s 56ms/step - loss: 0.0035\n",
            "Epoch 33/100\n",
            "34/34 [==============================] - 2s 57ms/step - loss: 0.0031\n",
            "Epoch 34/100\n",
            "34/34 [==============================] - 2s 56ms/step - loss: 0.0032\n",
            "Epoch 35/100\n",
            "34/34 [==============================] - 2s 56ms/step - loss: 0.0038\n",
            "Epoch 36/100\n",
            "34/34 [==============================] - 2s 56ms/step - loss: 0.0035\n",
            "Epoch 37/100\n",
            "34/34 [==============================] - 2s 55ms/step - loss: 0.0032\n",
            "Epoch 38/100\n",
            "34/34 [==============================] - 2s 56ms/step - loss: 0.0032\n",
            "Epoch 39/100\n",
            "34/34 [==============================] - 2s 56ms/step - loss: 0.0037\n",
            "Epoch 40/100\n",
            "34/34 [==============================] - 2s 57ms/step - loss: 0.0033\n",
            "Epoch 41/100\n",
            "34/34 [==============================] - 2s 56ms/step - loss: 0.0028\n",
            "Epoch 42/100\n",
            "34/34 [==============================] - 2s 56ms/step - loss: 0.0028\n",
            "Epoch 43/100\n",
            "34/34 [==============================] - 2s 56ms/step - loss: 0.0028\n",
            "Epoch 44/100\n",
            "34/34 [==============================] - 2s 55ms/step - loss: 0.0029\n",
            "Epoch 45/100\n",
            "34/34 [==============================] - 2s 56ms/step - loss: 0.0027\n",
            "Epoch 46/100\n",
            "34/34 [==============================] - 2s 56ms/step - loss: 0.0032\n",
            "Epoch 47/100\n",
            "34/34 [==============================] - 2s 57ms/step - loss: 0.0028\n",
            "Epoch 48/100\n",
            "34/34 [==============================] - 2s 57ms/step - loss: 0.0028\n",
            "Epoch 49/100\n",
            "34/34 [==============================] - 2s 56ms/step - loss: 0.0027\n",
            "Epoch 50/100\n",
            "34/34 [==============================] - 2s 56ms/step - loss: 0.0024\n",
            "Epoch 51/100\n",
            "34/34 [==============================] - 2s 56ms/step - loss: 0.0031\n",
            "Epoch 52/100\n",
            "34/34 [==============================] - 2s 57ms/step - loss: 0.0030\n",
            "Epoch 53/100\n",
            "34/34 [==============================] - 2s 56ms/step - loss: 0.0023\n",
            "Epoch 54/100\n",
            "34/34 [==============================] - 2s 56ms/step - loss: 0.0025\n",
            "Epoch 55/100\n",
            "34/34 [==============================] - 2s 56ms/step - loss: 0.0024\n",
            "Epoch 56/100\n",
            "34/34 [==============================] - 2s 56ms/step - loss: 0.0027\n",
            "Epoch 57/100\n",
            "34/34 [==============================] - 2s 56ms/step - loss: 0.0027\n",
            "Epoch 58/100\n",
            "34/34 [==============================] - 2s 56ms/step - loss: 0.0027\n",
            "Epoch 59/100\n",
            "34/34 [==============================] - 2s 56ms/step - loss: 0.0024\n",
            "Epoch 60/100\n",
            "34/34 [==============================] - 2s 57ms/step - loss: 0.0024\n",
            "Epoch 61/100\n",
            "34/34 [==============================] - 2s 57ms/step - loss: 0.0022\n",
            "Epoch 62/100\n",
            "34/34 [==============================] - 2s 57ms/step - loss: 0.0021\n",
            "Epoch 63/100\n",
            "34/34 [==============================] - 2s 55ms/step - loss: 0.0022\n",
            "Epoch 64/100\n",
            "34/34 [==============================] - 2s 55ms/step - loss: 0.0022\n",
            "Epoch 65/100\n",
            "34/34 [==============================] - 2s 56ms/step - loss: 0.0021\n",
            "Epoch 66/100\n",
            "34/34 [==============================] - 2s 55ms/step - loss: 0.0026\n",
            "Epoch 67/100\n",
            "34/34 [==============================] - 2s 56ms/step - loss: 0.0025\n",
            "Epoch 68/100\n",
            "34/34 [==============================] - 2s 55ms/step - loss: 0.0022\n",
            "Epoch 69/100\n",
            "34/34 [==============================] - 2s 55ms/step - loss: 0.0021\n",
            "Epoch 70/100\n",
            "34/34 [==============================] - 2s 55ms/step - loss: 0.0023\n",
            "Epoch 71/100\n",
            "34/34 [==============================] - 2s 56ms/step - loss: 0.0021\n",
            "Epoch 72/100\n",
            "34/34 [==============================] - 2s 56ms/step - loss: 0.0021\n",
            "Epoch 73/100\n",
            "34/34 [==============================] - 2s 56ms/step - loss: 0.0024\n",
            "Epoch 74/100\n",
            "34/34 [==============================] - 2s 55ms/step - loss: 0.0021\n",
            "Epoch 75/100\n",
            "34/34 [==============================] - 2s 55ms/step - loss: 0.0021\n",
            "Epoch 76/100\n",
            "34/34 [==============================] - 2s 55ms/step - loss: 0.0019\n",
            "Epoch 77/100\n",
            "34/34 [==============================] - 2s 55ms/step - loss: 0.0019\n",
            "Epoch 78/100\n",
            "34/34 [==============================] - 2s 56ms/step - loss: 0.0022\n",
            "Epoch 79/100\n",
            "34/34 [==============================] - 2s 56ms/step - loss: 0.0021\n",
            "Epoch 80/100\n",
            "34/34 [==============================] - 2s 56ms/step - loss: 0.0018\n",
            "Epoch 81/100\n",
            "34/34 [==============================] - 2s 56ms/step - loss: 0.0020\n",
            "Epoch 82/100\n",
            "34/34 [==============================] - 2s 56ms/step - loss: 0.0020\n",
            "Epoch 83/100\n",
            "34/34 [==============================] - 2s 55ms/step - loss: 0.0019\n",
            "Epoch 84/100\n",
            "34/34 [==============================] - 2s 56ms/step - loss: 0.0022\n",
            "Epoch 85/100\n",
            "34/34 [==============================] - 2s 56ms/step - loss: 0.0019\n",
            "Epoch 86/100\n",
            "34/34 [==============================] - 2s 56ms/step - loss: 0.0020\n",
            "Epoch 87/100\n",
            "34/34 [==============================] - 2s 56ms/step - loss: 0.0018\n",
            "Epoch 88/100\n",
            "34/34 [==============================] - 2s 57ms/step - loss: 0.0018\n",
            "Epoch 89/100\n",
            "34/34 [==============================] - 2s 56ms/step - loss: 0.0018\n",
            "Epoch 90/100\n",
            "34/34 [==============================] - 2s 57ms/step - loss: 0.0017\n",
            "Epoch 91/100\n",
            "34/34 [==============================] - 2s 57ms/step - loss: 0.0019\n",
            "Epoch 92/100\n",
            "34/34 [==============================] - 2s 56ms/step - loss: 0.0017\n",
            "Epoch 93/100\n",
            "34/34 [==============================] - 2s 57ms/step - loss: 0.0020\n",
            "Epoch 94/100\n",
            "34/34 [==============================] - 2s 55ms/step - loss: 0.0019\n",
            "Epoch 95/100\n",
            "34/34 [==============================] - 2s 56ms/step - loss: 0.0016\n",
            "Epoch 96/100\n",
            "34/34 [==============================] - 2s 56ms/step - loss: 0.0019\n",
            "Epoch 97/100\n",
            "34/34 [==============================] - 2s 55ms/step - loss: 0.0019\n",
            "Epoch 98/100\n",
            "34/34 [==============================] - 2s 56ms/step - loss: 0.0016\n",
            "Epoch 99/100\n",
            "34/34 [==============================] - 2s 55ms/step - loss: 0.0016\n",
            "Epoch 100/100\n",
            "34/34 [==============================] - 2s 56ms/step - loss: 0.0016\n"
          ],
          "name": "stdout"
        },
        {
          "output_type": "execute_result",
          "data": {
            "text/plain": [
              "<tensorflow.python.keras.callbacks.History at 0x7f9e867486a0>"
            ]
          },
          "metadata": {
            "tags": []
          },
          "execution_count": 16
        }
      ]
    },
    {
      "cell_type": "markdown",
      "metadata": {
        "id": "53MG6YT5hAkj",
        "colab_type": "text"
      },
      "source": [
        "**3.] Making predicitions and visualizing the results**"
      ]
    },
    {
      "cell_type": "markdown",
      "metadata": {
        "id": "shSoPJ_zhbT3",
        "colab_type": "text"
      },
      "source": [
        "Getting the real stock price"
      ]
    },
    {
      "cell_type": "code",
      "metadata": {
        "id": "LwuU1NsigilZ",
        "colab_type": "code",
        "colab": {}
      },
      "source": [
        "dataset_test = pd.read_csv('Google_Stock_Price_Test.csv')\n",
        "real_stock_price = dataset_test.iloc[:,1:2]"
      ],
      "execution_count": 17,
      "outputs": []
    },
    {
      "cell_type": "markdown",
      "metadata": {
        "id": "htE4krtUhfpn",
        "colab_type": "text"
      },
      "source": [
        "Getting the predicted stock price of 2017"
      ]
    },
    {
      "cell_type": "code",
      "metadata": {
        "id": "2SvdyxBug--b",
        "colab_type": "code",
        "colab": {}
      },
      "source": [
        "dataset_total = pd.concat((dataset_train['Open'],dataset_test['Open']), axis = 0)\n",
        "inputs = dataset_total[len(dataset_total)-len(dataset_test) - 60: ].values"
      ],
      "execution_count": 18,
      "outputs": []
    },
    {
      "cell_type": "code",
      "metadata": {
        "id": "s5Z7yWLZktXj",
        "colab_type": "code",
        "colab": {}
      },
      "source": [
        "inputs = inputs.reshape(-1,1)\n",
        "inputs = sc.transform(inputs)"
      ],
      "execution_count": 19,
      "outputs": []
    },
    {
      "cell_type": "code",
      "metadata": {
        "id": "naD4yxFMlyCt",
        "colab_type": "code",
        "colab": {}
      },
      "source": [
        "X_test = []\n",
        "\n",
        "for i in range(60,80):\n",
        "  X_test.append(inputs[i-60:i,0])\n",
        "X_test= np.array(X_test)"
      ],
      "execution_count": 20,
      "outputs": []
    },
    {
      "cell_type": "code",
      "metadata": {
        "id": "XNp4UI38msNy",
        "colab_type": "code",
        "colab": {}
      },
      "source": [
        "X_test = np.reshape(X_test,(X_test.shape[0],X_test.shape[1],1))\n",
        "Predicted_stock_price = regressor.predict(X_test)\n"
      ],
      "execution_count": 21,
      "outputs": []
    },
    {
      "cell_type": "code",
      "metadata": {
        "id": "i6vL70NunNEa",
        "colab_type": "code",
        "colab": {}
      },
      "source": [
        "predicted_stock_price = sc.inverse_transform(Predicted_stock_price)"
      ],
      "execution_count": 22,
      "outputs": []
    },
    {
      "cell_type": "markdown",
      "metadata": {
        "id": "YW2iYCLzng38",
        "colab_type": "text"
      },
      "source": [
        "**Visualizing the Results**"
      ]
    },
    {
      "cell_type": "code",
      "metadata": {
        "id": "HwC4D1ufnWh6",
        "colab_type": "code",
        "colab": {
          "base_uri": "https://localhost:8080/",
          "height": 295
        },
        "outputId": "bbec8d50-0f98-4164-e929-a1908af9af6e"
      },
      "source": [
        "plt.plot(real_stock_price,color = 'red',label = 'Real Stock Price of Google')\n",
        "plt.plot(predicted_stock_price,color = 'blue',label = 'Predicted Stock Price of Google')\n",
        "plt.title('Google Stock Price Predicition')\n",
        "plt.xlabel('Time')\n",
        "plt.ylabel('Google Stock Price')\n",
        "plt.legend()\n",
        "plt.show()"
      ],
      "execution_count": 24,
      "outputs": [
        {
          "output_type": "display_data",
          "data": {
            "image/png": "[encoded data removed]",
            "text/plain": [
              "<Figure size 432x288 with 1 Axes>"
            ]
          },
          "metadata": {
            "tags": [],
            "needs_background": "light"
          }
        }
      ]
    },
    {
      "cell_type": "code",
      "metadata": {
        "id": "dXhuxHTOwTZk",
        "colab_type": "code",
        "colab": {}
      },
      "source": [
        ""
      ],
      "execution_count": null,
      "outputs": []
    }
  ]
}